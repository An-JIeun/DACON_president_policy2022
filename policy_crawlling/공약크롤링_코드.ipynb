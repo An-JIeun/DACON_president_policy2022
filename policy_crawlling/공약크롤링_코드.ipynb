{
 "cells": [
  {
   "cell_type": "code",
   "execution_count": 2,
   "metadata": {},
   "outputs": [
    {
     "name": "stdout",
     "output_type": "stream",
     "text": [
      "Requirement already satisfied: wordcloud in c:\\programdata\\anaconda3\\lib\\site-packages (1.8.1)\n",
      "Requirement already satisfied: pillow in c:\\programdata\\anaconda3\\lib\\site-packages (from wordcloud) (7.0.0)\n",
      "Requirement already satisfied: numpy>=1.6.1 in c:\\users\\안지은\\appdata\\roaming\\python\\python37\\site-packages (from wordcloud) (1.21.0)\n",
      "Requirement already satisfied: matplotlib in c:\\programdata\\anaconda3\\lib\\site-packages (from wordcloud) (3.1.3)\n",
      "Requirement already satisfied: kiwisolver>=1.0.1 in c:\\programdata\\anaconda3\\lib\\site-packages (from matplotlib->wordcloud) (1.1.0)\n",
      "Requirement already satisfied: python-dateutil>=2.1 in c:\\programdata\\anaconda3\\lib\\site-packages (from matplotlib->wordcloud) (2.8.1)\n",
      "Requirement already satisfied: cycler>=0.10 in c:\\programdata\\anaconda3\\lib\\site-packages (from matplotlib->wordcloud) (0.10.0)\n",
      "Requirement already satisfied: pyparsing!=2.0.4,!=2.1.2,!=2.1.6,>=2.0.1 in c:\\programdata\\anaconda3\\lib\\site-packages (from matplotlib->wordcloud) (2.4.6)\n",
      "Requirement already satisfied: setuptools in c:\\programdata\\anaconda3\\lib\\site-packages (from kiwisolver>=1.0.1->matplotlib->wordcloud) (45.2.0.post20200210)\n",
      "Requirement already satisfied: six>=1.5 in c:\\programdata\\anaconda3\\lib\\site-packages (from python-dateutil>=2.1->matplotlib->wordcloud) (1.14.0)\n",
      "Requirement already satisfied: konlpy in c:\\programdata\\anaconda3\\lib\\site-packages (0.6.0)\n",
      "Requirement already satisfied: numpy>=1.6 in c:\\users\\안지은\\appdata\\roaming\\python\\python37\\site-packages (from konlpy) (1.21.0)\n",
      "Requirement already satisfied: lxml>=4.1.0 in c:\\programdata\\anaconda3\\lib\\site-packages (from konlpy) (4.5.0)\n",
      "Requirement already satisfied: JPype1>=0.7.0 in c:\\programdata\\anaconda3\\lib\\site-packages (from konlpy) (1.3.0)\n",
      "Requirement already satisfied: typing-extensions; python_version < \"3.8\" in c:\\programdata\\anaconda3\\lib\\site-packages (from JPype1>=0.7.0->konlpy) (3.10.0.0)\n",
      "Requirement already satisfied: eunjeon in c:\\programdata\\anaconda3\\lib\\site-packages (0.4.0)\n"
     ]
    }
   ],
   "source": [
    "!pip install konlpy\n",
    "!pip install eunjeon\n",
    "import pandas as pd\n",
    "pd.set_option('mode.chained_assignment',  None) \n",
    "import numpy as np\n",
    "\n",
    "import selenium\n",
    "from selenium import webdriver\n",
    "import time\n",
    "import bs4\n",
    "from bs4 import BeautifulSoup\n",
    "import unicodedata\n",
    "import math\n",
    "import re\n",
    "import nltk\n",
    "import konlpy\n",
    "import eunjeon\n",
    "from eunjeon import Mecab\n",
    "m = Mecab()\n",
    "hannanum = Hannanum()\n",
    "okt = Okt()\n",
    "\n",
    "chrome_path = # 본인 컴퓨터에 저장된 크롬드라이버 저장 위치"
   ]
  },
  {
   "cell_type": "code",
   "execution_count": null,
   "metadata": {},
   "outputs": [],
   "source": [
    "def crawlling_pol(number, ChromeD_path): # 크롤링 후 해당 페이지의 html 소스를 리턴하는 함수\n",
    "    driver =webdriver.Chrome(ChromeD_path)\n",
    "    driver.get(\"https://policy.nec.go.kr/\")\n",
    "\n",
    "    iframe = driver.find_element_by_id(\"indexIframe\")  # iframe 때문에 그냥 크롤링 하려고 들면 절대 안됨..ㅠ\n",
    "    driver.switch_to.frame(iframe)\n",
    "    time.sleep(3)\n",
    "    driver.find_element_by_xpath('/html/body/div[2]/div[2]/div[2]/a[1]/div').click() # fullXpath로 복사해야함\n",
    "\n",
    "    time.sleep(2)\n",
    "\n",
    "    #이거 역시 iframe 문제인거 같은데 일단 excute_script 하니까 됨 ;; -> https://wkdtjsgur100.github.io/selenium-does-not-work-to-click/\n",
    "    element = driver.find_element_by_xpath(\"\"\"//*[@id=\"dataDiv\"]/div[%d]/ul/li/a[1]\"\"\" % number) # 각자 후보자 정책 목록 클릭 버튼 xpath로\n",
    "    driver.execute_script(\"arguments[0].click();\", element)\n",
    "\n",
    "    time.sleep(2)\n",
    "\n",
    "    # 셀레늄 탭전환 https://noodle-dev.tistory.com/45\n",
    "    driver.switch_to_window(driver.window_handles[1])\n",
    "\n",
    "    iframe = driver.find_element_by_id(\"indexIframe\")\n",
    "    driver.switch_to.frame(iframe)\n",
    "\n",
    "    #content = driver.find_elements_by_class_name('arccrodion-content')\n",
    "    html = driver.page_source\n",
    "    return html\n",
    "\n",
    "def soup_content(number,html, ChromeD_path):\n",
    "    soup = BeautifulSoup(html, 'html.parser')\n",
    "    content = soup.find_all('div','accordion-content-inner')\n",
    "    content = str(content)\n",
    "    content = content.split('<div class=\"accordion-content-inner\">')\n",
    "    cont_list = []\n",
    "    for i in range(len(content)):\n",
    "        if i == 0:\n",
    "            pass\n",
    "        else:\n",
    "            content_rmv = re.sub('(<([^>]+)>)', '',content[i])\n",
    "            new_str = content_rmv\n",
    "            new_str = new_str.replace('\\n\\n\\t','')\n",
    "            new_str = new_str.replace('\\n','')\n",
    "            new_str = new_str.replace('                            ','')\n",
    "            new_str = new_str.replace('○','')\n",
    "            new_str = new_str.replace(' 목 표','')\n",
    "            new_str = new_str.replace('  ','')\n",
    "            new_str = new_str.replace('□','')\n",
    "            new_str = new_str.replace('■','')\n",
    "            cont_list.append(new_str)\n",
    "    #메인 페이지 접속\n",
    "    #driver = webdriver.Chrome('C:\\\\Users\\\\user\\\\Downloads\\\\chromedriver')\n",
    "    driver =webdriver.Chrome(ChromeD_path)\n",
    "    driver.get(\"https://policy.nec.go.kr/\") \n",
    "\n",
    "    #정당정책 페이지 접속\n",
    "    iframe = driver.find_element_by_id(\"indexIframe\") \n",
    "    driver.switch_to.frame(iframe)\n",
    "    time.sleep(3)\n",
    "    driver.find_element_by_xpath('/html/body/div[2]/div[2]/div[2]/a[1]/div').click() \n",
    "\n",
    "    \n",
    "    element = driver.find_element_by_xpath(\"\"\"//*[@id=\"dataDiv\"]/div[%d]/ul/li/a[1]\"\"\" % number) # 각자 후보자 정책 목록 클릭 버튼 xpath로\n",
    "    driver.execute_script(\"arguments[0].click();\", element)\n",
    "\n",
    "    time.sleep(2)\n",
    "\n",
    "    # 셀레늄 탭전환 https://noodle-dev.tistory.com/45\n",
    "    driver.switch_to_window(driver.window_handles[1])\n",
    "\n",
    "    iframe = driver.find_element_by_id(\"indexIframe\")  # 그냥 크롤링 하려고 들면 절대 안됨\n",
    "    driver.switch_to.frame(iframe)\n",
    "    time.sleep(3)\n",
    "\n",
    "    #소제목 텍스트 반복문으로 긁어오기 \n",
    "    title_text = []\n",
    "    for n in range(1,20,2) :\n",
    "        title_path = '/html/body/div/div/div/div/div[{0}]/p[@class = \"accordion-questions\"]'.format(n)\n",
    "        title = driver.find_element_by_xpath(title_path)\n",
    "        title_text.append(title.text)\n",
    "    title_text\n",
    "        \n",
    "    pols = pd.DataFrame()\n",
    "    pols['타이틀'] = title_text\n",
    "    pols['내용'] = cont_list\n",
    "    return pols\n"
   ]
  },
  {
   "cell_type": "code",
   "execution_count": 3,
   "metadata": {},
   "outputs": [
    {
     "name": "stdout",
     "output_type": "stream",
     "text": [
      "1\n"
     ]
    },
    {
     "name": "stderr",
     "output_type": "stream",
     "text": [
      "C:\\ProgramData\\Anaconda3\\lib\\site-packages\\ipykernel_launcher.py:19: DeprecationWarning:\n",
      "\n",
      "use driver.switch_to.window instead\n",
      "\n",
      "C:\\ProgramData\\Anaconda3\\lib\\site-packages\\ipykernel_launcher.py:67: DeprecationWarning:\n",
      "\n",
      "use driver.switch_to.window instead\n",
      "\n"
     ]
    },
    {
     "name": "stdout",
     "output_type": "stream",
     "text": [
      "2\n",
      "3\n"
     ]
    }
   ],
   "source": [
    "chrome_path = chrome_path # 본인 컴퓨터의 크롬드라이버 저장 위치 입력\n",
    "for i in range(1,4):\n",
    "    print(i)\n",
    "    html_n = crawlling_pol(i,chrome_path)\n",
    "    globals()['pols_{}'.format(i)] = soup_content(i,html_n,chrome_path)\n",
    "\n",
    "    \n",
    "# 카테고리 칼럼 생성\n",
    "for i in range(1,4):\n",
    "    title = globals()['pols_{}'.format(i)]\n",
    "    title = title['타이틀']\n",
    "    category_list= []\n",
    "    for k in range(len(title)):\n",
    "        detail = title[k]\n",
    "        left = detail.find('[')\n",
    "        right = detail.find(']')\n",
    "        category = detail[left+1:right]\n",
    "        category_list.append(category)\n",
    "    globals()['pols_{}'.format(i)]['카테고리'] = category_list"
   ]
  },
  {
   "cell_type": "code",
   "execution_count": 7,
   "metadata": {},
   "outputs": [],
   "source": [
    "# 후보별 공약 데이터셋 다운받기\n",
    "for i in range(1,4):\n",
    "     globals()['pols_{}'.format(i)].to_excel('{}번_후보공약.xlsx'.format(i))"
   ]
  }
 ],
 "metadata": {
  "kernelspec": {
   "display_name": "Python 3",
   "language": "python",
   "name": "python3"
  },
  "language_info": {
   "codemirror_mode": {
    "name": "ipython",
    "version": 3
   },
   "file_extension": ".py",
   "mimetype": "text/x-python",
   "name": "python",
   "nbconvert_exporter": "python",
   "pygments_lexer": "ipython3",
   "version": "3.7.6"
  }
 },
 "nbformat": 4,
 "nbformat_minor": 4
}
